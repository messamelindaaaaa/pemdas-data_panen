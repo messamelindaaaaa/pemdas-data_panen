{
 "cells": [
  {
   "cell_type": "code",
   "execution_count": 4,
   "metadata": {},
   "outputs": [],
   "source": [
    "data_panen ={\n",
    "    'lokasi1': {\n",
    "        'nama_lokasi': 'Kebun A',\n",
    "        'hasil_panen': {\n",
    "            'padi':1200,\n",
    "            'jagung':800,\n",
    "            'kedelai':500\n",
    "        }\n",
    "    },\n",
    "    'lokasi2':{\n",
    "        'nama_lokasi': 'Kebun B',\n",
    "        'hasil_panen': {\n",
    "            'padi':1500,\n",
    "            'jagung':900,\n",
    "            'kedelai':450\n",
    "        }\n",
    "    },\n",
    "    'lokasi3':{\n",
    "        'nama_lokasi': 'Kebun C',\n",
    "        'hasil_panen': {\n",
    "            'padi':1100,\n",
    "            'jagung':750,\n",
    "            'kedelai':600\n",
    "        }\n",
    "    },\n",
    "    'lokasi4':{\n",
    "        'nama_lokasi': 'Kebun D',\n",
    "        'hasil_panen': {\n",
    "            'padi':1300,\n",
    "            'jagung':850,\n",
    "            'kedelai':550\n",
    "        }\n",
    "    },\n",
    "    'lokasi5':{\n",
    "        'nama_lokasi': 'Kebun E',\n",
    "        'hasil_panen': {\n",
    "            'padi':1400,\n",
    "            'jagung':950,\n",
    "            'kedelai':480\n",
    "        }\n",
    "    }\n",
    "}"
   ]
  },
  {
   "cell_type": "code",
   "execution_count": 5,
   "metadata": {},
   "outputs": [
    {
     "name": "stdout",
     "output_type": "stream",
     "text": [
      "Lokasi berada di: Kebun A\n",
      "  Padi: 1200\n",
      "  Jagung: 800\n",
      "  Kedelai: 500\n",
      "\n",
      "Lokasi berada di: Kebun B\n",
      "  Padi: 1500\n",
      "  Jagung: 900\n",
      "  Kedelai: 450\n",
      "\n",
      "Lokasi berada di: Kebun C\n",
      "  Padi: 1100\n",
      "  Jagung: 750\n",
      "  Kedelai: 600\n",
      "\n",
      "Lokasi berada di: Kebun D\n",
      "  Padi: 1300\n",
      "  Jagung: 850\n",
      "  Kedelai: 550\n",
      "\n",
      "Lokasi berada di: Kebun E\n",
      "  Padi: 1400\n",
      "  Jagung: 950\n",
      "  Kedelai: 480\n",
      "\n"
     ]
    }
   ],
   "source": [
    "#1\n",
    "for i, d in data_panen.items():\n",
    "    print(f\"Lokasi berada di: {d['nama_lokasi']}\")\n",
    "    for j, m in d['hasil_panen'].items():\n",
    "        print(f\"  {j.capitalize()}: {m}\")\n",
    "    print()\n"
   ]
  },
  {
   "cell_type": "code",
   "execution_count": 6,
   "metadata": {},
   "outputs": [
    {
     "name": "stdout",
     "output_type": "stream",
     "text": [
      "Jumlah hasil panen jagung dari lokasi 2 yaitu: 900\n"
     ]
    }
   ],
   "source": [
    "#2\n",
    "hasil_panen_jagung = data_panen['lokasi2']['hasil_panen']['jagung']\n",
    "print(f\"Jumlah hasil panen jagung dari lokasi 2 yaitu: {hasil_panen_jagung}\")\n"
   ]
  },
  {
   "cell_type": "code",
   "execution_count": 7,
   "metadata": {},
   "outputs": [
    {
     "name": "stdout",
     "output_type": "stream",
     "text": [
      "Nama lokasi dari lokasi 3 yaitu: Kebun C\n"
     ]
    }
   ],
   "source": [
    "#3\n",
    "nama_lokasi_3 = data_panen['lokasi3']['nama_lokasi']\n",
    "print(f\"Nama lokasi dari lokasi 3 yaitu: {nama_lokasi_3}\")\n"
   ]
  },
  {
   "cell_type": "code",
   "execution_count": 8,
   "metadata": {},
   "outputs": [
    {
     "name": "stdout",
     "output_type": "stream",
     "text": [
      "Jumlah hasil panen padi yaitu:\n",
      "  lokasi1: 1200\n",
      "  lokasi2: 1500\n",
      "  lokasi3: 1100\n",
      "  lokasi4: 1300\n",
      "  lokasi5: 1400\n",
      "\n",
      "Jumlah hasil panen kedelai yaitu:\n",
      "  lokasi1: 500\n",
      "  lokasi2: 450\n",
      "  lokasi3: 600\n",
      "  lokasi4: 550\n",
      "  lokasi5: 480\n"
     ]
    }
   ],
   "source": [
    "#4\n",
    "panen_padi = {l: d['hasil_panen']['padi'] for l, d in data_panen.items()}\n",
    "panen_kedelai = {l: d['hasil_panen']['kedelai'] for l, d in data_panen.items()}\n",
    "\n",
    "print(\"Jumlah hasil panen padi yaitu:\")\n",
    "for l, j in panen_padi.items():\n",
    "    print(f\"  {l}: {j}\")\n",
    "\n",
    "print(\"\\nJumlah hasil panen kedelai yaitu:\")\n",
    "for l, j in panen_kedelai.items():\n",
    "    print(f\"  {l}: {j}\")\n"
   ]
  },
  {
   "cell_type": "code",
   "execution_count": 9,
   "metadata": {},
   "outputs": [
    {
     "name": "stdout",
     "output_type": "stream",
     "text": [
      "Lokasi Kebun A dalam kondisi baik.\n",
      "Lokasi Kebun B memerlukan perhatian khusus.\n",
      "Lokasi Kebun C dalam kondisi baik.\n",
      "Lokasi Kebun D memerlukan perhatian khusus.\n",
      "Lokasi Kebun E memerlukan perhatian khusus.\n"
     ]
    }
   ],
   "source": [
    "#5\n",
    "for l, d in data_panen.items():\n",
    "    padi = d['hasil_panen']['padi']\n",
    "    jagung = d['hasil_panen']['jagung']\n",
    "    nama_lokasi = d['nama_lokasi']\n",
    "    \n",
    "    if padi > 1300 or jagung > 800:\n",
    "        print(f\"Lokasi {nama_lokasi} memerlukan perhatian khusus.\")\n",
    "    else:\n",
    "        print(f\"Lokasi {nama_lokasi} dalam kondisi baik.\")\n"
   ]
  }
 ],
 "metadata": {
  "kernelspec": {
   "display_name": "Python 3",
   "language": "python",
   "name": "python3"
  },
  "language_info": {
   "codemirror_mode": {
    "name": "ipython",
    "version": 3
   },
   "file_extension": ".py",
   "mimetype": "text/x-python",
   "name": "python",
   "nbconvert_exporter": "python",
   "pygments_lexer": "ipython3",
   "version": "3.12.6"
  }
 },
 "nbformat": 4,
 "nbformat_minor": 2
}
